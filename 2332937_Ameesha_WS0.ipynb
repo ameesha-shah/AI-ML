{
  "nbformat": 4,
  "nbformat_minor": 0,
  "metadata": {
    "colab": {
      "provenance": []
    },
    "kernelspec": {
      "name": "python3",
      "display_name": "Python 3"
    },
    "language_info": {
      "name": "python"
    }
  },
  "cells": [
    {
      "cell_type": "code",
      "execution_count": 6,
      "metadata": {
        "colab": {
          "base_uri": "https://localhost:8080/"
        },
        "id": "ICSEsrq5KZMI",
        "outputId": "1ee82a36-55d4-4efc-93dc-68ba3637d593"
      },
      "outputs": [
        {
          "output_type": "stream",
          "name": "stdout",
          "text": [
            "Hello, World!\n",
            "Python version: 3.11.11 (main, Dec  4 2024, 08:55:07) [GCC 11.4.0]\n"
          ]
        }
      ],
      "source": [
        "import sys\n",
        "# Check Python version\n",
        "if sys.version_info.major == 3 and sys.version_info.minor >= 6:\n",
        "    print(\"Hello, World!\")\n",
        "    print(f\"Python version: {sys.version}\")\n",
        "else:\n",
        "    print(\"Please use Python 3.6 or higher.\")"
      ]
    },
    {
      "cell_type": "markdown",
      "source": [
        " 4.1 Exercise on Functions: Task- 1:\n",
        " Create a Python program that converts between different units of measurement.\n",
        " • The program should:\n",
        " 1. Prompt the user to choose the type of conversion (e.g., length, weight, volume).\n",
        " 2. Ask the user to input the value to be converted.\n",
        " 3. Perform the conversion and display the result.\n",
        " 4. Handle potential errors, such as invalid input or unsupported conversion types.\n",
        "\n",
        "** • Requirements:**\n",
        "\n",
        " 1. Functions: Define at least one function to perform the conversion.\n",
        " 2. Error Handling: Use try-except blocks to handle invalid input (e.g., non-numeric values).\n",
        " 3. User Input: Prompt the user to select the conversion type and input the value.\n",
        " 4. Docstrings: Include a docstring in your function to describe its purpose, parameters, and\n",
        " return value.\n",
        " • Conversion Options:\n",
        " 1. Length:– Convert meters (m) to feet (ft).– Convert feet (ft) to meters (m).\n",
        " 2. Weight:– Convert kilograms (kg) to pounds (lbs).– Convert pounds (lbs) to kilograms (kg).\n",
        " 3. Volume:– Convert liters (L) to gallons (gal).– Convert gallons (gal) to liters (L).\n"
      ],
      "metadata": {
        "id": "9xY0Qf5HOhRk"
      }
    },
    {
      "cell_type": "code",
      "source": [
        "def unit_converter():\n",
        "    \"\"\"\n",
        "    A simple unit conversion tool.\n",
        "    \"\"\"\n",
        "    print(\"Select a conversion category:\")\n",
        "    print(\"1. Length (meters to feet, feet to meters)\")\n",
        "    print(\"2. Weight (kilograms to pounds, pounds to kilograms)\")\n",
        "    print(\"3. Volume (liters to gallons, gallons to liters)\")\n",
        "\n",
        "    option = input(\"Enter your choice (1, 2, or 3): \")\n",
        "    try:\n",
        "        if option == \"1\":\n",
        "            amount = float(input(\"Enter the quantity: \"))\n",
        "            measurement = input(\"Specify the unit (m/ft): \")\n",
        "            if measurement == \"m\":\n",
        "                print(f\"{amount} meters is equivalent to {amount * 3.28084} feet.\")\n",
        "            elif measurement == \"ft\":\n",
        "                print(f\"{amount} feet is equivalent to {amount / 3.28084} meters.\")\n",
        "            else:\n",
        "                print(\"Unsupported unit provided.\")\n",
        "\n",
        "        elif option == \"2\":\n",
        "            amount = float(input(\"Enter the quantity: \"))\n",
        "            measurement = input(\"Specify the unit (kg/lbs): \")\n",
        "            if measurement == \"kg\":\n",
        "                print(f\"{amount} kilograms is equivalent to {amount * 2.20462} pounds.\")\n",
        "            elif measurement == \"lbs\":\n",
        "                print(f\"{amount} pounds is equivalent to {amount / 2.20462} kilograms.\")\n",
        "            else:\n",
        "                print(\"Unsupported unit provided.\")\n",
        "\n",
        "        elif option == \"3\":\n",
        "            amount = float(input(\"Enter the quantity: \"))\n",
        "            measurement = input(\"Specify the unit (L/gal): \")\n",
        "            if measurement == \"L\":\n",
        "                print(f\"{amount} liters is equivalent to {amount * 0.264172} gallons.\")\n",
        "            elif measurement == \"gal\":\n",
        "                print(f\"{amount} gallons is equivalent to {amount / 0.264172} liters.\")\n",
        "            else:\n",
        "                print(\"Unsupported unit provided.\")\n",
        "        else:\n",
        "            print(\"Invalid selection. Please choose 1, 2, or 3.\")\n",
        "    except ValueError:\n",
        "        print(\"Error: Please enter a valid numerical value.\")\n",
        "\n",
        "# Execute the unit converter\n",
        "unit_converter()\n"
      ],
      "metadata": {
        "colab": {
          "base_uri": "https://localhost:8080/"
        },
        "id": "kfJsHR6FOieL",
        "outputId": "15082d48-c065-4ba8-8be0-be31bffa9bf3"
      },
      "execution_count": 5,
      "outputs": [
        {
          "output_type": "stream",
          "name": "stdout",
          "text": [
            "Select a conversion category:\n",
            "1. Length (meters to feet, feet to meters)\n",
            "2. Weight (kilograms to pounds, pounds to kilograms)\n",
            "3. Volume (liters to gallons, gallons to liters)\n",
            "Enter your choice (1, 2, or 3): 2\n",
            "Enter the quantity: 75\n",
            "Specify the unit (kg/lbs): kg\n",
            "75.0 kilograms is equivalent to 165.3465 pounds.\n"
          ]
        }
      ]
    },
    {
      "cell_type": "markdown",
      "source": [
        "Task- 2:\n",
        " Create a Python program that performs various mathematical operations on a list of numbers.\n",
        " • The Program should:\n",
        " 1. Prompt the user to choose an operation (e.g., find the sum, average, maximum, or minimum\n",
        " of the numbers).\n",
        " 2. Ask the user to input a list of numbers (separated by spaces).\n",
        "\n",
        " 3. Perform the selected operation and display the result.\n",
        " 4. Handle potential errors, such as invalid input or empty lists.\n",
        " **• Requirements:**\n",
        " 1. Functions: Define at least one function for each operation (sum, average, maximum, mini\n",
        "mum).\n",
        " 2. Error Handling: Use try-except blocks to handle invalid input (e.g., non-numeric values or\n",
        " empty lists).\n",
        " 3. User Input: Prompt the user to select the operation and input the list of numbers.\n",
        " 4. Docstrings: Include a docstring in each function to describe its purpose, parameters, and\n",
        " return value."
      ],
      "metadata": {
        "id": "zOaMnuinPEmv"
      }
    },
    {
      "cell_type": "code",
      "source": [
        "## Task 2: Mathematical Operations on a List\n",
        "\n",
        "def perform_math_operations():\n",
        "    \"\"\"\n",
        "    Performs sum, average, max, and min operations on a list of numbers.\n",
        "    \"\"\"\n",
        "    try:\n",
        "        numbers = list(map(float, input(\"Enter numbers separated by spaces: \").split()))\n",
        "        if not numbers:\n",
        "            print(\"List is empty. Provide valid numbers.\")\n",
        "            return\n",
        "\n",
        "        print(\"Choose operation:\")\n",
        "        print(\"1. Sum\")\n",
        "        print(\"2. Average\")\n",
        "        print(\"3. Maximum\")\n",
        "        print(\"4. Minimum\")\n",
        "\n",
        "        choice = input(\"Enter 1, 2, 3, or 4: \")\n",
        "        if choice == \"1\":\n",
        "            print(\"Sum:\", sum(numbers))\n",
        "        elif choice == \"2\":\n",
        "            print(\"Average:\", sum(numbers) / len(numbers))\n",
        "        elif choice == \"3\":\n",
        "            print(\"Maximum:\", max(numbers))\n",
        "        elif choice == \"4\":\n",
        "            print(\"Minimum:\", min(numbers))\n",
        "        else:\n",
        "            print(\"Invalid choice.\")\n",
        "    except ValueError:\n",
        "        print(\"Invalid input. Enter numeric values only.\")\n",
        "\n",
        "# Running the function\n",
        "perform_math_operations()"
      ],
      "metadata": {
        "colab": {
          "base_uri": "https://localhost:8080/"
        },
        "id": "JZht2gq-PBVe",
        "outputId": "4e24d7ec-6c9a-47c3-fad3-5cc21bf96265"
      },
      "execution_count": null,
      "outputs": [
        {
          "output_type": "stream",
          "name": "stdout",
          "text": [
            "Enter numbers separated by spaces: 12 22 55\n",
            "Choose operation:\n",
            "1. Sum\n",
            "2. Average\n",
            "3. Maximum\n",
            "4. Minimum\n",
            "Enter 1, 2, 3, or 4: 4\n",
            "Minimum: 12.0\n"
          ]
        }
      ]
    },
    {
      "cell_type": "markdown",
      "source": [
        "4.2 Exercise on List Manipulation:"
      ],
      "metadata": {
        "id": "9Hj4HBbCQrWR"
      }
    },
    {
      "cell_type": "code",
      "source": [
        "## Task 3: List Manipulation\n",
        "\n",
        "def extract_every_other(lst):\n",
        "    \"\"\"Returns every other element from the list.\"\"\"\n",
        "    return lst[::2]\n",
        "\n",
        "def get_sublist(lst, start, end):\n",
        "    \"\"\"Returns a sublist from start to end indices.\"\"\"\n",
        "    return lst[start:end+1]\n",
        "\n",
        "def reverse_list(lst):\n",
        "    \"\"\"Returns the reversed list.\"\"\"\n",
        "    return lst[::-1]\n",
        "\n",
        "def remove_first_last(lst):\n",
        "    \"\"\"Removes the first and last elements.\"\"\"\n",
        "    return lst[1:-1]\n",
        "\n",
        "def get_first_n(lst, n):\n",
        "    \"\"\"Returns the first n elements.\"\"\"\n",
        "    return lst[:n]\n",
        "\n",
        "def get_last_n(lst, n):\n",
        "    \"\"\"Returns the last n elements.\"\"\"\n",
        "    return lst[-n:]\n",
        "\n",
        "def reverse_skip(lst):\n",
        "    \"\"\"Extracts every second element from the second-to-last element backward.\"\"\"\n",
        "    return lst[-2::-2]\n",
        "\n",
        "# Sample Execution\n",
        "test_list = [1, 2, 3, 4, 5, 6]\n",
        "print(\"Every Other Element:\", extract_every_other(test_list))\n",
        "print(\"Sublist (2-4):\", get_sublist(test_list, 2, 4))\n",
        "print(\"Reversed List:\", reverse_list(test_list))\n",
        "print(\"Without First & Last:\", remove_first_last(test_list))\n",
        "print(\"First 3 Elements:\", get_first_n(test_list, 3))\n",
        "print(\"Last 2 Elements:\", get_last_n(test_list, 2))\n",
        "print(\"Reverse Skip Elements:\", reverse_skip(test_list))"
      ],
      "metadata": {
        "colab": {
          "base_uri": "https://localhost:8080/"
        },
        "id": "LGbo1foWPtWc",
        "outputId": "93d4abb0-d870-46a4-c0cf-53d5aad06486"
      },
      "execution_count": null,
      "outputs": [
        {
          "output_type": "stream",
          "name": "stdout",
          "text": [
            "Every Other Element: [1, 3, 5]\n",
            "Sublist (2-4): [3, 4, 5]\n",
            "Reversed List: [6, 5, 4, 3, 2, 1]\n",
            "Without First & Last: [2, 3, 4, 5]\n",
            "First 3 Elements: [1, 2, 3]\n",
            "Last 2 Elements: [5, 6]\n",
            "Reverse Skip Elements: [5, 3, 1]\n"
          ]
        }
      ]
    },
    {
      "cell_type": "markdown",
      "source": [
        "\n",
        "\n",
        "4.3 Exercise on Nested List:\n"
      ],
      "metadata": {
        "id": "LHNSA8gIRCKX"
      }
    },
    {
      "cell_type": "code",
      "source": [
        "## Task 3: Nested List Operations\n",
        "\n",
        "def flatten(lst):\n",
        "    \"\"\"Flattens a nested list into a single list.\"\"\"\n",
        "    flat_list = []\n",
        "    for sublist in lst:\n",
        "        if isinstance(sublist, list):\n",
        "            flat_list.extend(flatten(sublist))\n",
        "        else:\n",
        "            flat_list.append(sublist)\n",
        "    return flat_list\n",
        "\n",
        "def access_nested_element(lst, indices):\n",
        "    \"\"\"Accesses a nested list element by indices.\"\"\"\n",
        "    for i in indices:\n",
        "        lst = lst[i]\n",
        "    return lst\n",
        "\n",
        "def sum_nested(lst):\n",
        "    \"\"\"Sums all elements in a nested list.\"\"\"\n",
        "    return sum(sum_nested(sublist) if isinstance(sublist, list) else sublist for sublist in lst)\n",
        "\n",
        "def remove_element(lst, elem):\n",
        "    \"\"\"Removes all occurrences of a specific element from a nested list.\"\"\"\n",
        "    return [remove_element(sublist, elem) if isinstance(sublist, list) else sublist for sublist in lst if sublist != elem]\n",
        "\n",
        "def find_max(lst):\n",
        "    \"\"\"Finds the maximum element in a nested list.\"\"\"\n",
        "    return max(find_max(sublist) if isinstance(sublist, list) else sublist for sublist in lst)\n",
        "\n",
        "def count_occurrences(lst, elem):\n",
        "    \"\"\"Counts how many times an element appears in a nested list.\"\"\"\n",
        "    return sum(count_occurrences(sublist, elem) if isinstance(sublist, list) else (1 if sublist == elem else 0) for sublist in lst)\n",
        "\n",
        "def deep_flatten(lst):\n",
        "    \"\"\"Flattens a deeply nested list into a single list.\"\"\"\n",
        "    return flatten(lst)\n",
        "\n",
        "def average_nested(lst):\n",
        "    \"\"\"Calculates the average of all elements in a nested list.\"\"\"\n",
        "    flat_list = flatten(lst)\n",
        "    return sum(flat_list) / len(flat_list) if flat_list else 0\n",
        "\n",
        "# Sample Execution\n",
        "nested_list = [[1, 2], [3, [4, 5]], 6]\n",
        "print(\"Flatten List:\", flatten(nested_list))\n",
        "print(\"Element at [1,1]:\", access_nested_element([[1, 2, 3], [4, 5, 6], [7, 8, 9]], [1, 2]))\n",
        "print(\"Sum of Elements:\", sum_nested(nested_list))\n",
        "print(\"Remove Element 2:\", remove_element([[1, 2], [3, 2], [4, 5]], 2))\n",
        "print(\"Max Element:\", find_max(nested_list))\n",
        "print(\"Count Occurrences of 2:\", count_occurrences([[1, 2], [2, 3], [2, 4]], 2))\n",
        "print(\"Deep Flatten:\", deep_flatten([[[1, 2], [3, 4]], [[5, 6], [7, 8]]]))\n",
        "print(\"Average Nested:\", average_nested([[1, 2], [3, 4], [5, 6]]))"
      ],
      "metadata": {
        "colab": {
          "base_uri": "https://localhost:8080/"
        },
        "id": "GCUdRmcDRCeY",
        "outputId": "3098b592-9d8b-4e33-91fd-b070f12266ef"
      },
      "execution_count": null,
      "outputs": [
        {
          "output_type": "stream",
          "name": "stdout",
          "text": [
            "Flatten List: [1, 2, 3, 4, 5, 6]\n",
            "Element at [1,1]: 6\n",
            "Sum of Elements: 21\n",
            "Remove Element 2: [[1], [3], [4, 5]]\n",
            "Max Element: 6\n",
            "Count Occurrences of 2: 3\n",
            "Deep Flatten: [1, 2, 3, 4, 5, 6, 7, 8]\n",
            "Average Nested: 3.5\n"
          ]
        }
      ]
    },
    {
      "cell_type": "markdown",
      "source": [
        "10.1 Basic Vector and Matrix Operation with Numpy.\n",
        " Problem- 1: Array Creation:\n",
        " Complete the following Tasks:\n",
        " 1. Initialize an empty array with size 2X2.\n",
        " 2. Initialize an all one array with size 4X2.\n",
        " 3. Return a new array of given shape and type, filled with fill value.{Hint: np.full}\n",
        " 4. Return a new array of zeros with same shape and type as a given array.{Hint: np.zeros like}\n",
        " 5. Return a new array of ones with same shape and type as a given array.{Hint: np.ones like}\n",
        " 6. For an existing list new_list = [1,2,3,4] convert to an numpy array.{Hint: np.array()}"
      ],
      "metadata": {
        "id": "R8EOVqcnRv-S"
      }
    },
    {
      "cell_type": "code",
      "source": [
        "import numpy as np\n",
        "\n",
        "# 1. Initialize an empty array with size 2X2.\n",
        "empty_array = np.empty((2, 2))\n",
        "\n",
        "# 2. Initialize an all-one array with size 4X2.\n",
        "ones_array = np.ones((4, 2))\n",
        "\n",
        "# 3. Return a new array of given shape and type, filled with a fill value.\n",
        "fill_array = np.full((3, 3), 7)  # Example fill value: 7\n",
        "\n",
        "# 4. Return a new array of zeros with the same shape and type as a given array.\n",
        "reference_array = np.array([[1, 2, 3], [4, 5, 6]])\n",
        "zeros_like_array = np.zeros_like(reference_array)\n",
        "\n",
        "# 5. Return a new array of ones with the same shape and type as a given array.\n",
        "ones_like_array = np.ones_like(reference_array)\n",
        "\n",
        "# 6. Convert an existing list to a NumPy array.\n",
        "new_list = [1, 2, 3, 4]\n",
        "numpy_array = np.array(new_list)\n",
        "\n",
        "# Displaying results\n",
        "(empty_array, ones_array, fill_array, zeros_like_array, ones_like_array, numpy_array)\n"
      ],
      "metadata": {
        "colab": {
          "base_uri": "https://localhost:8080/"
        },
        "id": "GJfFLsfwRwMx",
        "outputId": "16045c63-4ddd-4b33-b716-e3b41c8e024d"
      },
      "execution_count": null,
      "outputs": [
        {
          "output_type": "execute_result",
          "data": {
            "text/plain": [
              "(array([[3.21723459e-316, 0.00000000e+000],\n",
              "        [2.31297541e-312, 2.54639495e-312]]),\n",
              " array([[1., 1.],\n",
              "        [1., 1.],\n",
              "        [1., 1.],\n",
              "        [1., 1.]]),\n",
              " array([[7, 7, 7],\n",
              "        [7, 7, 7],\n",
              "        [7, 7, 7]]),\n",
              " array([[0, 0, 0],\n",
              "        [0, 0, 0]]),\n",
              " array([[1, 1, 1],\n",
              "        [1, 1, 1]]),\n",
              " array([1, 2, 3, 4]))"
            ]
          },
          "metadata": {},
          "execution_count": 57
        }
      ]
    },
    {
      "cell_type": "markdown",
      "source": [
        "Problem- 2: Array Manipulation: Numerical Ranges and Array indexing:"
      ],
      "metadata": {
        "id": "tl9dvnEiVuIB"
      }
    },
    {
      "cell_type": "code",
      "source": [
        "# 1. Create an array with values ranging from 10 to 49\n",
        "array_range = np.arange(10, 50)\n",
        "\n",
        "# 2. Create a 3x3 matrix with values ranging from 0 to 8\n",
        "matrix_3x3 = np.arange(9).reshape(3, 3)\n",
        "\n",
        "# 3. Create a 3x3 identity matrix\n",
        "identity_matrix = np.eye(3)\n",
        "\n",
        "# 4. Create a random array of size 30 and find the mean\n",
        "random_array = np.random.random(30)\n",
        "mean_value = random_array.mean()\n",
        "\n",
        "# 5. Create a 10x10 array with random values and find the min and max\n",
        "random_matrix_10x10 = np.random.random((10, 10))\n",
        "min_value = random_matrix_10x10.min()\n",
        "max_value = random_matrix_10x10.max()\n",
        "\n",
        "# 6. Create a zero array of size 10 and replace the 5th element with 1\n",
        "zero_array = np.zeros(10)\n",
        "zero_array[4] = 1  # 5th element (index 4) set to 1\n",
        "\n",
        "# 7. Reverse an array arr = [1,2,0,0,4,0]\n",
        "arr = np.array([1, 2, 0, 0, 4, 0])\n",
        "reversed_arr = arr[::-1]\n",
        "\n",
        "# 8. Create a 2D array with 1 on the border and 0 inside\n",
        "border_array = np.ones((5, 5))\n",
        "border_array[1:-1, 1:-1] = 0  # Set inside values to 0\n",
        "\n",
        "# 9. Create an 8x8 matrix with a checkerboard pattern\n",
        "checkerboard = np.zeros((8, 8), dtype=int)\n",
        "checkerboard[1::2, ::2] = 1  # Set alternate positions to 1\n",
        "checkerboard[::2, 1::2] = 1\n",
        "\n",
        "# Display results\n",
        "(array_range, matrix_3x3, identity_matrix, mean_value, min_value, max_value, zero_array, reversed_arr, border_array, checkerboard)\n"
      ],
      "metadata": {
        "colab": {
          "base_uri": "https://localhost:8080/"
        },
        "id": "emf6znMgVc_i",
        "outputId": "7071d564-b35e-4e51-e7cd-888971e9c83c"
      },
      "execution_count": null,
      "outputs": [
        {
          "output_type": "execute_result",
          "data": {
            "text/plain": [
              "(array([10, 11, 12, 13, 14, 15, 16, 17, 18, 19, 20, 21, 22, 23, 24, 25, 26,\n",
              "        27, 28, 29, 30, 31, 32, 33, 34, 35, 36, 37, 38, 39, 40, 41, 42, 43,\n",
              "        44, 45, 46, 47, 48, 49]),\n",
              " array([[0, 1, 2],\n",
              "        [3, 4, 5],\n",
              "        [6, 7, 8]]),\n",
              " array([[1., 0., 0.],\n",
              "        [0., 1., 0.],\n",
              "        [0., 0., 1.]]),\n",
              " 0.49774271168359074,\n",
              " 0.0007506100705234608,\n",
              " 0.9853411256434845,\n",
              " array([0., 0., 0., 0., 1., 0., 0., 0., 0., 0.]),\n",
              " array([0, 4, 0, 0, 2, 1]),\n",
              " array([[1., 1., 1., 1., 1.],\n",
              "        [1., 0., 0., 0., 1.],\n",
              "        [1., 0., 0., 0., 1.],\n",
              "        [1., 0., 0., 0., 1.],\n",
              "        [1., 1., 1., 1., 1.]]),\n",
              " array([[0, 1, 0, 1, 0, 1, 0, 1],\n",
              "        [1, 0, 1, 0, 1, 0, 1, 0],\n",
              "        [0, 1, 0, 1, 0, 1, 0, 1],\n",
              "        [1, 0, 1, 0, 1, 0, 1, 0],\n",
              "        [0, 1, 0, 1, 0, 1, 0, 1],\n",
              "        [1, 0, 1, 0, 1, 0, 1, 0],\n",
              "        [0, 1, 0, 1, 0, 1, 0, 1],\n",
              "        [1, 0, 1, 0, 1, 0, 1, 0]]))"
            ]
          },
          "metadata": {},
          "execution_count": 58
        }
      ]
    },
    {
      "cell_type": "markdown",
      "source": [
        "Problem- 3: Array Operations:"
      ],
      "metadata": {
        "id": "Kjvpl_y6V3UC"
      }
    },
    {
      "cell_type": "code",
      "source": [
        "# Defining the given arrays\n",
        "x = np.array([[1, 2], [3, 5]])\n",
        "y = np.array([[5, 6], [7, 8]])\n",
        "v = np.array([9, 10])\n",
        "w = np.array([11, 12])\n",
        "\n",
        "# 1. Add the two arrays\n",
        "add_xy = x + y\n",
        "\n",
        "\n",
        "# Display results\n",
        "(add_xy)"
      ],
      "metadata": {
        "colab": {
          "base_uri": "https://localhost:8080/"
        },
        "id": "S2o5N9WbV1WZ",
        "outputId": "7a6136b7-6ddc-4c8d-b9d9-02d69fbd3796"
      },
      "execution_count": null,
      "outputs": [
        {
          "output_type": "execute_result",
          "data": {
            "text/plain": [
              "array([[ 6,  8],\n",
              "       [10, 13]])"
            ]
          },
          "metadata": {},
          "execution_count": 61
        }
      ]
    },
    {
      "cell_type": "code",
      "source": [
        "# 2. Subtract the two arrays\n",
        "sub_xy = x - y\n",
        "(sub_xy)\n",
        "\n"
      ],
      "metadata": {
        "colab": {
          "base_uri": "https://localhost:8080/"
        },
        "id": "mDv1aGIIWKKx",
        "outputId": "f3cad41e-0298-46ce-eeff-01276d153bcd"
      },
      "execution_count": null,
      "outputs": [
        {
          "output_type": "execute_result",
          "data": {
            "text/plain": [
              "array([[-4, -4],\n",
              "       [-4, -3]])"
            ]
          },
          "metadata": {},
          "execution_count": 62
        }
      ]
    },
    {
      "cell_type": "code",
      "source": [
        "# 3. Multiply the array x with an integer (choosing 3 as the multiplier)\n",
        "mult_x = x * 3\n",
        "\n",
        "(mult_x)"
      ],
      "metadata": {
        "colab": {
          "base_uri": "https://localhost:8080/"
        },
        "id": "FHRjWysmWWZp",
        "outputId": "d771c897-4337-4c2b-cde3-460c0b6bab80"
      },
      "execution_count": null,
      "outputs": [
        {
          "output_type": "execute_result",
          "data": {
            "text/plain": [
              "array([[ 3,  6],\n",
              "       [ 9, 15]])"
            ]
          },
          "metadata": {},
          "execution_count": 63
        }
      ]
    },
    {
      "cell_type": "code",
      "source": [
        "# 4. Find the square of each element of the array x\n",
        "square_x = np.square(x)\n",
        "\n",
        "(square_x)"
      ],
      "metadata": {
        "colab": {
          "base_uri": "https://localhost:8080/"
        },
        "id": "XFQY_DcuWbhh",
        "outputId": "3a63b5bd-d6b9-4118-e4ec-d17d2d4a053c"
      },
      "execution_count": null,
      "outputs": [
        {
          "output_type": "execute_result",
          "data": {
            "text/plain": [
              "array([[ 1,  4],\n",
              "       [ 9, 25]])"
            ]
          },
          "metadata": {},
          "execution_count": 64
        }
      ]
    },
    {
      "cell_type": "code",
      "source": [
        "# 5. Find the dot product\n",
        "dot_vw = np.dot(v, w)  # Dot product of v and w\n",
        "dot_xv = np.dot(x, v)  # Dot product of x and v\n",
        "dot_xy = np.dot(x, y)  # Dot product of x and y\n",
        "(dot_vw, dot_xv, dot_xy)\n"
      ],
      "metadata": {
        "colab": {
          "base_uri": "https://localhost:8080/"
        },
        "id": "NxpPrabBWf-J",
        "outputId": "b896597e-da46-4602-d5bb-2907cba76cd7"
      },
      "execution_count": null,
      "outputs": [
        {
          "output_type": "execute_result",
          "data": {
            "text/plain": [
              "(219,\n",
              " array([29, 77]),\n",
              " array([[19, 22],\n",
              "        [50, 58]]))"
            ]
          },
          "metadata": {},
          "execution_count": 66
        }
      ]
    },
    {
      "cell_type": "code",
      "source": [
        "# 6. Concatenate x and y along rows and v and w along columns\n",
        "concat_xy_row = np.concatenate((x, y), axis=0)\n",
        "concat_vw_col = np.vstack((v, w))\n",
        "\n",
        "\n",
        "# Display results\n",
        "(concat_xy_row, concat_vw_col)\n"
      ],
      "metadata": {
        "colab": {
          "base_uri": "https://localhost:8080/"
        },
        "id": "Wb5H2z75WlqB",
        "outputId": "f1485775-5970-4681-e7d1-9eea6c6d629f"
      },
      "execution_count": null,
      "outputs": [
        {
          "output_type": "execute_result",
          "data": {
            "text/plain": [
              "(array([[1, 2],\n",
              "        [3, 5],\n",
              "        [5, 6],\n",
              "        [7, 8]]),\n",
              " array([[ 9, 10],\n",
              "        [11, 12]]))"
            ]
          },
          "metadata": {},
          "execution_count": 68
        }
      ]
    },
    {
      "cell_type": "code",
      "source": [
        "# 7. Concatenate x and v (expecting an error due to shape mismatch)\n",
        "try:\n",
        "    concat_xv = np.concatenate((x, v), axis=0)  # Attempting to concatenate x and v\n",
        "except ValueError as e:\n",
        "    concat_xv_error = str(e)  # Capture the error message\n",
        "(concat_xv_error)"
      ],
      "metadata": {
        "colab": {
          "base_uri": "https://localhost:8080/",
          "height": 53
        },
        "id": "fNwpZxNUWzFi",
        "outputId": "bc27de90-dd73-45cf-c086-ed5943826b17"
      },
      "execution_count": null,
      "outputs": [
        {
          "output_type": "execute_result",
          "data": {
            "text/plain": [
              "'all the input arrays must have same number of dimensions, but the array at index 0 has 2 dimension(s) and the array at index 1 has 1 dimension(s)'"
            ],
            "application/vnd.google.colaboratory.intrinsic+json": {
              "type": "string"
            }
          },
          "metadata": {},
          "execution_count": 69
        }
      ]
    },
    {
      "cell_type": "markdown",
      "source": [
        "Problem- 4: Matrix Operations:"
      ],
      "metadata": {
        "id": "6ab2IkiTXClT"
      }
    },
    {
      "cell_type": "code",
      "source": [
        "# Define matrices A and B\n",
        "A = np.array([[3, 4], [7, 8]])\n",
        "B = np.array([[5, 3], [2, 1]])\n",
        "\n",
        "# 1. Prove A * A⁻¹ = I\n",
        "A_inv = np.linalg.inv(A)  # Compute the inverse of A\n",
        "identity_A = np.dot(A, A_inv)  # A * A⁻¹\n",
        "\n",
        "(identity_A)"
      ],
      "metadata": {
        "colab": {
          "base_uri": "https://localhost:8080/"
        },
        "id": "B9yO1hgJXEcp",
        "outputId": "f69e478a-9d8d-447b-985c-a1d99756382d"
      },
      "execution_count": null,
      "outputs": [
        {
          "output_type": "execute_result",
          "data": {
            "text/plain": [
              "array([[1.00000000e+00, 0.00000000e+00],\n",
              "       [1.77635684e-15, 1.00000000e+00]])"
            ]
          },
          "metadata": {},
          "execution_count": 74
        }
      ]
    },
    {
      "cell_type": "code",
      "source": [
        "\n",
        "# 2. Prove AB = BA\n",
        "AB = np.dot(A, B)  # Compute A * B\n",
        "BA = np.dot(B, A)  # Compute B * A\n",
        "commutative_check = np.allclose(AB, BA)  # Check if AB == BA\n",
        "(commutative_check)"
      ],
      "metadata": {
        "colab": {
          "base_uri": "https://localhost:8080/"
        },
        "id": "h_QTssDoXRMp",
        "outputId": "7113c61d-8440-455a-fd03-c5c48cd199cb"
      },
      "execution_count": null,
      "outputs": [
        {
          "output_type": "execute_result",
          "data": {
            "text/plain": [
              "False"
            ]
          },
          "metadata": {},
          "execution_count": 75
        }
      ]
    },
    {
      "cell_type": "code",
      "source": [
        "\n",
        "# 3. Prove (AB)ᵀ = Bᵀ Aᵀ\n",
        "AB_T = np.transpose(AB)  # Compute (AB)ᵀ\n",
        "BT_AT = np.dot(np.transpose(B), np.transpose(A))  # Compute Bᵀ Aᵀ\n",
        "transpose_check = np.allclose(AB_T, BT_AT)  # Check if (AB)ᵀ == Bᵀ Aᵀ\n",
        "(transpose_check)"
      ],
      "metadata": {
        "colab": {
          "base_uri": "https://localhost:8080/"
        },
        "id": "Br25JMtYXTkZ",
        "outputId": "fb3f414f-97eb-4d12-9e02-e3615d52b0a5"
      },
      "execution_count": null,
      "outputs": [
        {
          "output_type": "execute_result",
          "data": {
            "text/plain": [
              "True"
            ]
          },
          "metadata": {},
          "execution_count": 76
        }
      ]
    },
    {
      "cell_type": "code",
      "source": [
        "\n",
        "# Solve the system of linear equations using Inverse Methods\n",
        "# AX = B\n",
        "A_matrix = np.array([[2, -3, 1], [1, -1, 2], [3, 1, -1]])\n",
        "B_matrix = np.array([-1, -3, 9])\n",
        "\n",
        "# Solve for X using np.linalg.inv\n",
        "A_inv_matrix = np.linalg.inv(A_matrix)  # Compute inverse of A\n",
        "X_solution = np.dot(A_inv_matrix, B_matrix)  # Compute X = A⁻¹ * B\n",
        "\n",
        "# Display results\n",
        "(X_solution)"
      ],
      "metadata": {
        "colab": {
          "base_uri": "https://localhost:8080/"
        },
        "id": "Fl5bD8TnXVlS",
        "outputId": "14e5cf71-2668-42f1-ed2a-5a69315b086f"
      },
      "execution_count": null,
      "outputs": [
        {
          "output_type": "execute_result",
          "data": {
            "text/plain": [
              "array([ 2.,  1., -2.])"
            ]
          },
          "metadata": {},
          "execution_count": 77
        }
      ]
    },
    {
      "cell_type": "markdown",
      "source": [
        " 1. Element-wise Addition:\n",
        " • Using Python Lists, perform element-wise addition of two lists of size 1,000,000. Measure\n",
        " and Print the time taken for this operation.\n",
        " • Using Numpy Arrays, Repeat the calculation and measure and print the time taken for\n",
        " this operation"
      ],
      "metadata": {
        "id": "ZIV4GeoyYYZT"
      }
    },
    {
      "cell_type": "markdown",
      "source": [
        "10.2 Experiment: How Fast is Numpy"
      ],
      "metadata": {
        "id": "oKFZTGm4X0ZC"
      }
    },
    {
      "cell_type": "code",
      "source": [
        "import time\n",
        "\n",
        "# Generate two lists of size 1,000,000\n",
        "list1 = [i for i in range(1_000_000)]\n",
        "list2 = [i for i in range(1_000_000)]\n",
        "\n",
        "# Measure time for element-wise addition using Python lists\n",
        "start_time_list = time.time()\n",
        "list_sum = [list1[i] + list2[i] for i in range(1_000_000)]\n",
        "end_time_list = time.time()\n",
        "list_time_taken = end_time_list - start_time_list\n",
        "\n",
        "# Generate two NumPy arrays of size 1,000,000\n",
        "array1 = np.arange(1_000_000)\n",
        "array2 = np.arange(1_000_000)\n",
        "\n",
        "# Measure time for element-wise addition using NumPy arrays\n",
        "start_time_numpy = time.time()\n",
        "array_sum = array1 + array2  # Element-wise addition in NumPy\n",
        "end_time_numpy = time.time()\n",
        "numpy_time_taken = end_time_numpy - start_time_numpy\n",
        "\n",
        "# Display the time taken for both methods\n",
        "(list_time_taken, numpy_time_taken)\n"
      ],
      "metadata": {
        "colab": {
          "base_uri": "https://localhost:8080/"
        },
        "id": "SNZnCWVAX1Py",
        "outputId": "8d244c84-bc67-4148-b32b-c8e69c273705"
      },
      "execution_count": null,
      "outputs": [
        {
          "output_type": "execute_result",
          "data": {
            "text/plain": [
              "(0.1492772102355957, 0.00834512710571289)"
            ]
          },
          "metadata": {},
          "execution_count": 78
        }
      ]
    },
    {
      "cell_type": "markdown",
      "source": [
        " Element-wise Multiplication\n",
        " • Using Python Lists, perform element-wise multiplication of two lists of size 1,000,000.\n",
        " Measure and Print the time taken for this operation.\n",
        " • Using Numpy Arrays, Repeat the calculation and measure and print the time taken for\n",
        " this operation."
      ],
      "metadata": {
        "id": "D6wlpRv9YbeI"
      }
    },
    {
      "cell_type": "code",
      "source": [
        "# Measure time for element-wise multiplication using Python lists\n",
        "start_time_list_mult = time.time()\n",
        "list_product = [list1[i] * list2[i] for i in range(1_000_000)]\n",
        "end_time_list_mult = time.time()\n",
        "list_mult_time_taken = end_time_list_mult - start_time_list_mult\n",
        "\n",
        "# Measure time for element-wise multiplication using NumPy arrays\n",
        "start_time_numpy_mult = time.time()\n",
        "array_product = array1 * array2  # Element-wise multiplication in NumPy\n",
        "end_time_numpy_mult = time.time()\n",
        "numpy_mult_time_taken = end_time_numpy_mult - start_time_numpy_mult\n",
        "\n",
        "# Display the time taken for both methods\n",
        "(list_mult_time_taken, numpy_mult_time_taken)\n"
      ],
      "metadata": {
        "colab": {
          "base_uri": "https://localhost:8080/"
        },
        "id": "vvXExIThYBp6",
        "outputId": "6382c99d-0e32-42a3-a18b-35d07dbd4e5d"
      },
      "execution_count": null,
      "outputs": [
        {
          "output_type": "execute_result",
          "data": {
            "text/plain": [
              "(0.10301923751831055, 0.007843971252441406)"
            ]
          },
          "metadata": {},
          "execution_count": 79
        }
      ]
    },
    {
      "cell_type": "markdown",
      "source": [
        " Dot Product\n",
        " • Using Python Lists, compute the dot product of two lists of size 1,000,000. Measure and\n",
        " Print the time taken for this operation.\n",
        " • Using Numpy Arrays, Repeat the calculation and measure and print the time taken for\n",
        " this operation."
      ],
      "metadata": {
        "id": "fUQcPJHXYdPR"
      }
    },
    {
      "cell_type": "code",
      "source": [
        "# Measure time for dot product using Python lists\n",
        "start_time_list_dot = time.time()\n",
        "list_dot_product = sum(list1[i] * list2[i] for i in range(1_000_000))\n",
        "end_time_list_dot = time.time()\n",
        "list_dot_time_taken = end_time_list_dot - start_time_list_dot\n",
        "\n",
        "# Measure time for dot product using NumPy arrays\n",
        "start_time_numpy_dot = time.time()\n",
        "array_dot_product = np.dot(array1, array2)  # Dot product in NumPy\n",
        "end_time_numpy_dot = time.time()\n",
        "numpy_dot_time_taken = end_time_numpy_dot - start_time_numpy_dot\n",
        "\n",
        "# Display the time taken for both methods\n",
        "(list_dot_time_taken, numpy_dot_time_taken)\n"
      ],
      "metadata": {
        "colab": {
          "base_uri": "https://localhost:8080/"
        },
        "id": "JGcrMJg9YH50",
        "outputId": "f79751ae-c2de-4b7a-cda2-aec0ea2a90be"
      },
      "execution_count": null,
      "outputs": [
        {
          "output_type": "execute_result",
          "data": {
            "text/plain": [
              "(0.11536264419555664, 0.003011465072631836)"
            ]
          },
          "metadata": {},
          "execution_count": 80
        }
      ]
    },
    {
      "cell_type": "markdown",
      "source": [
        "Matrix Multiplication\n",
        " • Using Python lists, perform matrix multiplication of two matrices of size 1000x1000. Mea\n",
        "sure and print the time taken for this operation.\n",
        " • Using NumPy arrays, perform matrix multiplication of two matrices of size 1000x1000.\n",
        " Measure and print the time taken for this operation."
      ],
      "metadata": {
        "id": "iKXQ6SxrYfpZ"
      }
    },
    {
      "cell_type": "code",
      "source": [
        "# Generate two matrices of size 1000x1000 using NumPy arrays\n",
        "matrix1_numpy = np.random.rand(1000, 1000)\n",
        "matrix2_numpy = np.random.rand(1000, 1000)\n",
        "\n",
        "# Measure time for matrix multiplication using NumPy arrays\n",
        "start_time_numpy_matmul = time.time()\n",
        "result_matrix_numpy = np.dot(matrix1_numpy, matrix2_numpy)  # Matrix multiplication in NumPy\n",
        "end_time_numpy_matmul = time.time()\n",
        "numpy_matmul_time_taken = end_time_numpy_matmul - start_time_numpy_matmul\n",
        "\n",
        "# Display the time taken for NumPy matrix multiplication\n",
        "numpy_matmul_time_taken\n"
      ],
      "metadata": {
        "colab": {
          "base_uri": "https://localhost:8080/"
        },
        "id": "KGYkkmg-ZVvr",
        "outputId": "dbc1c30b-93b9-4f53-83fa-5d72c341fce5"
      },
      "execution_count": null,
      "outputs": [
        {
          "output_type": "execute_result",
          "data": {
            "text/plain": [
              "0.07204461097717285"
            ]
          },
          "metadata": {},
          "execution_count": 82
        }
      ]
    },
    {
      "cell_type": "code",
      "source": [
        "import time\n",
        "\n",
        "# Generate two matrices of size 1000x1000 using Python lists\n",
        "matrix1_list = [[i * j for j in range(1000)] for i in range(1000)]\n",
        "matrix2_list = [[j * i for j in range(1000)] for i in range(1000)]\n",
        "\n",
        "# Measure time for matrix multiplication using Python lists\n",
        "start_time_list_matmul = time.time()\n",
        "result_matrix_list = [[sum(matrix1_list[i][k] * matrix2_list[k][j] for k in range(1000)) for j in range(1000)] for i in range(1000)]\n",
        "end_time_list_matmul = time.time()\n",
        "\n",
        "list_matmul_time_taken = end_time_list_matmul - start_time_list_matmul\n",
        "print(\"Time taken for matrix multiplication using Python lists:\", list_matmul_time_taken, \"seconds\")\n"
      ],
      "metadata": {
        "id": "Nefg4-_GYUXz",
        "colab": {
          "base_uri": "https://localhost:8080/"
        },
        "outputId": "73bb2cd7-9212-4fea-fee7-5400f40cc6bc"
      },
      "execution_count": 2,
      "outputs": [
        {
          "output_type": "stream",
          "name": "stdout",
          "text": [
            "Time taken for matrix multiplication using Python lists: 213.2465043067932 seconds\n"
          ]
        }
      ]
    }
  ]
}