{
  "nbformat": 4,
  "nbformat_minor": 0,
  "metadata": {
    "colab": {
      "provenance": []
    },
    "kernelspec": {
      "name": "python3",
      "display_name": "Python 3"
    },
    "language_info": {
      "name": "python"
    }
  },
  "cells": [
    {
      "cell_type": "code",
      "source": [
        "import os\n",
        "import numpy as np\n",
        "import tensorflow as tf\n",
        "from tensorflow.keras.utils import to_categorical\n",
        "from sklearn.model_selection import train_test_split\n",
        "import matplotlib.pyplot as plt\n",
        "from PIL import Image # Import Pillow"
      ],
      "metadata": {
        "id": "FYfp49il3hNz"
      },
      "execution_count": 10,
      "outputs": []
    },
    {
      "cell_type": "code",
      "execution_count": 11,
      "metadata": {
        "colab": {
          "base_uri": "https://localhost:8080/"
        },
        "id": "sb91N80z1c2j",
        "outputId": "fd03f203-e7cb-4868-d23d-eb2ae34bc14d"
      },
      "outputs": [
        {
          "output_type": "stream",
          "name": "stdout",
          "text": [
            "Drive already mounted at /content/drive; to attempt to forcibly remount, call drive.mount(\"/content/drive\", force_remount=True).\n"
          ]
        }
      ],
      "source": [
        "from google.colab import drive\n",
        "drive.mount('/content/drive')\n",
        "\n",
        "zip_path = \"/content/drive/My Drive/MyFolder/Copy of Copy of devnagari digit.zip\"\n",
        "!unzip -q \"/content/drive/My Drive/Copy of Copy of devnagari digit.zip\" -d \"/content/\""
      ]
    },
    {
      "cell_type": "markdown",
      "source": [
        "# Task 1: Data Preparation"
      ],
      "metadata": {
        "id": "l254N_sJJEO8"
      }
    },
    {
      "cell_type": "markdown",
      "source": [
        "Loading the Data\n",
        "\n",
        "• Download the provided folder that contains the Devnagari digits dataset.\n",
        "\n",
        "• Use the Python Imaging Library (PIL) to load and read the image files from the dataset.\n",
        "\n",
        "• Convert the images into Numpy arrays and normalize them to a range of 0-1.\n",
        "\n",
        "• use train folder for training and test for testing.\n",
        "\n",
        "• Extract the corresponding labels for each image.\n",
        "\n",
        "Hints:\n",
        "\n",
        "• Ensure that the images are resized to a consistent shape (e.g., 28x28).\n",
        "• Convert labels to one-hot encoded format for multi-class classification."
      ],
      "metadata": {
        "id": "WamWXRRbJGyK"
      }
    },
    {
      "cell_type": "code",
      "source": [
        "train_dir = \"/content/DevanagariHandwrittenDigitDataset/Train\"\n",
        "test_dir = \"/content/DevanagariHandwrittenDigitDataset/Test\""
      ],
      "metadata": {
        "id": "Uok2--vn2CG2"
      },
      "execution_count": 17,
      "outputs": []
    },
    {
      "cell_type": "code",
      "source": [
        "\n",
        "\n",
        "# Define image size\n",
        "img_height, img_width = 28, 28\n",
        "\n",
        "# Function to load images and labels\n",
        "def load_images_from_folder(folder):\n",
        "    images = []\n",
        "    labels = []\n",
        "\n",
        "    class_names = sorted(os.listdir(folder))  # Get sorted class names (e.g., digit_0, digit_1, ...)\n",
        "    class_map = {name: i for i, name in enumerate(class_names)}  # Map class names to labels\n",
        "\n",
        "    for class_name in class_names:\n",
        "        class_path = os.path.join(folder, class_name)\n",
        "        label = class_map[class_name]\n",
        "\n",
        "        for filename in os.listdir(class_path):\n",
        "            img_path = os.path.join(class_path, filename)\n",
        "\n",
        "            # Load image using PIL\n",
        "            img = Image.open(img_path).convert(\"L\")  # Convert to grayscale\n",
        "            img = img.resize((img_width, img_height))  # Resize to (28,28)\n",
        "            img = np.array(img) / 255.0  # Normalize pixel values to [0,1]\n",
        "\n",
        "            images.append(img)\n",
        "            labels.append(label)\n",
        "\n",
        "    return np.array(images), np.array(labels)\n",
        "\n",
        "\n",
        "X_train, y_train = load_images_from_folder(train_dir)\n",
        "X_test, y_test = load_images_from_folder(test_dir)\n"
      ],
      "metadata": {
        "id": "swQdu4cW3ybt"
      },
      "execution_count": 18,
      "outputs": []
    },
    {
      "cell_type": "code",
      "source": [
        "# Reshape data for TensorFlow (if needed for CNN input)\n",
        "X_train = X_train.reshape(-1, img_height, img_width, 1)\n",
        "X_test = X_test.reshape(-1, img_height, img_width, 1)\n",
        "\n",
        "# Convert labels to categorical (one-hot encoding)\n",
        "y_train = to_categorical(y_train, num_classes=10)\n",
        "y_test = to_categorical(y_test, num_classes=10)\n",
        "\n",
        "print(\"Train data shape:\", X_train.shape)\n",
        "print(\"Test data shape:\", X_test.shape)\n"
      ],
      "metadata": {
        "colab": {
          "base_uri": "https://localhost:8080/"
        },
        "id": "9shydXQ_4GhN",
        "outputId": "d20dc43a-643a-4abb-e438-92e46846d5d6"
      },
      "execution_count": 19,
      "outputs": [
        {
          "output_type": "stream",
          "name": "stdout",
          "text": [
            "Train data shape: (17000, 28, 28, 1)\n",
            "Test data shape: (3000, 28, 28, 1)\n"
          ]
        }
      ]
    },
    {
      "cell_type": "markdown",
      "source": [
        "# Task 2: Build the FCN Model"
      ],
      "metadata": {
        "id": "9P4p6iUrJzv1"
      }
    },
    {
      "cell_type": "markdown",
      "source": [
        "**Model Architecture**\n",
        "\n",
        "• Create a Sequential model using Keras.\n",
        "\n",
        "• Add 3 hidden layers with the following number of neurons:\n",
        "\n",
        "– 1st hidden layer: 64 neurons\n",
        "\n",
        "– 2nd hidden layer: 128 neurons\n",
        "\n",
        "– 3rd hidden layer: 256 neurons\n",
        "\n",
        "• Use sigmoid activation functions for all hidden layers.\n",
        "\n",
        "• Add an output layer with 10 units with softmax (since Devnagari digits have 10 classes) and a\n",
        "softmax activation function."
      ],
      "metadata": {
        "id": "SsKBwT3HJ3_R"
      }
    },
    {
      "cell_type": "code",
      "source": [
        "# Model parameters\n",
        "import tensorflow as tf\n",
        "from tensorflow import keras\n",
        "num_classes = 10\n",
        "input_shape = (28, 28, 1)\n",
        "model = keras.Sequential(\n",
        "[\n",
        "keras.layers.Input(shape=input_shape),\n",
        "keras.layers.Flatten(), # Flatten the 28x28 image to a 784-dimensional vector\n",
        "keras.layers.Dense(64, activation=\"sigmoid\"),\n",
        "keras.layers.Dense(128, activation=\"sigmoid\"),\n",
        "keras.layers.Dense(256, activation=\"sigmoid\"),\n",
        "keras.layers.Dense(num_classes, activation=\"softmax\"),\n",
        "]\n",
        ")\n"
      ],
      "metadata": {
        "id": "9VzFSrlg73xz"
      },
      "execution_count": 20,
      "outputs": []
    },
    {
      "cell_type": "markdown",
      "source": [
        "# Task 3: Compile the Model\n",
        "\n",
        "**Model Compilation**\n",
        "\n",
        "• Choose an appropriate optimizer (e.g., Adam), loss function (e.g., sparse categorical crossentropy),\n",
        "and evaluation metric (e.g., accuracy)."
      ],
      "metadata": {
        "id": "qYFUbBMfKf3c"
      }
    },
    {
      "cell_type": "code",
      "source": [
        "model.compile(\n",
        "optimizer=\"adam\",\n",
        "loss=\"categorical_crossentropy\", # Loss function for multi-class classification\n",
        "metrics=[\"accuracy\"] # Track accuracy during training\n",
        ")\n",
        "\n"
      ],
      "metadata": {
        "id": "ELTneQrVG2si"
      },
      "execution_count": 21,
      "outputs": []
    },
    {
      "cell_type": "markdown",
      "source": [
        "# Task 4: Train the Model"
      ],
      "metadata": {
        "id": "ZeMcEafQLD8T"
      }
    },
    {
      "cell_type": "markdown",
      "source": [
        "**Model Training**\n",
        "\n",
        "• Use the model.fit() function to train the model. Set the batch size to 128 and the number of\n",
        "epochs to 700.\n",
        "\n",
        "• Use validation split (validation split=0.2) to monitor the model’s performance on validation\n",
        "data.\n",
        "\n",
        "• Optionally, use callbacks such as ModelCheckpoint and EarlyStopping for saving the best model\n",
        "and avoiding overfitting."
      ],
      "metadata": {
        "id": "9pL4rjeOMWN3"
      }
    },
    {
      "cell_type": "code",
      "source": [
        "batch_size = 128  #Set batch size to 128\n",
        "epochs = 700     #Set number of epochs to 700\n",
        "\n",
        "#Callbacks for saving the best model & avoiding overfitting\n",
        "callbacks = [\n",
        "    keras.callbacks.ModelCheckpoint(filepath=\"best_model.keras\", save_best_only=True),  # Saves only the best model\n",
        "    keras.callbacks.EarlyStopping(monitor=\"val_loss\", patience=4, restore_best_weights=True)  # Stops early if no improvement\n",
        "]\n",
        "\n",
        "#Train the model with validation split = 0.2\n",
        "history = model.fit(\n",
        "    X_train,\n",
        "    y_train,\n",
        "    batch_size=batch_size,\n",
        "    epochs=epochs,\n",
        "    validation_split=0.2,  #Use 20% validation data\n",
        "    callbacks=callbacks,\n",
        ")\n"
      ],
      "metadata": {
        "colab": {
          "base_uri": "https://localhost:8080/"
        },
        "id": "tZuvB5W9G7BU",
        "outputId": "3773493d-4d86-4f7e-a6c2-f5f89ede7baf"
      },
      "execution_count": 22,
      "outputs": [
        {
          "output_type": "stream",
          "name": "stdout",
          "text": [
            "Epoch 1/700\n",
            "\u001b[1m107/107\u001b[0m \u001b[32m━━━━━━━━━━━━━━━━━━━━\u001b[0m\u001b[37m\u001b[0m \u001b[1m4s\u001b[0m 16ms/step - accuracy: 0.3029 - loss: 1.9373 - val_accuracy: 0.0000e+00 - val_loss: 7.1314\n",
            "Epoch 2/700\n",
            "\u001b[1m107/107\u001b[0m \u001b[32m━━━━━━━━━━━━━━━━━━━━\u001b[0m\u001b[37m\u001b[0m \u001b[1m1s\u001b[0m 7ms/step - accuracy: 0.8326 - loss: 0.5869 - val_accuracy: 0.0000e+00 - val_loss: 8.4618\n",
            "Epoch 3/700\n",
            "\u001b[1m107/107\u001b[0m \u001b[32m━━━━━━━━━━━━━━━━━━━━\u001b[0m\u001b[37m\u001b[0m \u001b[1m1s\u001b[0m 7ms/step - accuracy: 0.9167 - loss: 0.2817 - val_accuracy: 0.0000e+00 - val_loss: 8.9208\n",
            "Epoch 4/700\n",
            "\u001b[1m107/107\u001b[0m \u001b[32m━━━━━━━━━━━━━━━━━━━━\u001b[0m\u001b[37m\u001b[0m \u001b[1m1s\u001b[0m 6ms/step - accuracy: 0.9496 - loss: 0.1890 - val_accuracy: 0.0000e+00 - val_loss: 9.3795\n",
            "Epoch 5/700\n",
            "\u001b[1m107/107\u001b[0m \u001b[32m━━━━━━━━━━━━━━━━━━━━\u001b[0m\u001b[37m\u001b[0m \u001b[1m1s\u001b[0m 7ms/step - accuracy: 0.9604 - loss: 0.1459 - val_accuracy: 0.0000e+00 - val_loss: 9.7445\n"
          ]
        }
      ]
    },
    {
      "cell_type": "markdown",
      "source": [
        "# Task 5: Evaluate the Model"
      ],
      "metadata": {
        "id": "3IGDJdx6P-OS"
      }
    },
    {
      "cell_type": "markdown",
      "source": [
        "**Model Evaluation**\n",
        "\n",
        "• After training, evaluate the model using model.evaluate() on the test set to check the test\n",
        "accuracy and loss."
      ],
      "metadata": {
        "id": "J36XZURfQEyg"
      }
    },
    {
      "cell_type": "code",
      "source": [
        "test_loss, test_acc = model.evaluate(X_test, y_test, verbose=2)\n",
        "print(f\"Test accuracy: {test_acc:.4f}\")"
      ],
      "metadata": {
        "colab": {
          "base_uri": "https://localhost:8080/"
        },
        "id": "Pvj-jvW-W7A1",
        "outputId": "3bd7db10-7871-4456-932f-703c57c9ed7c"
      },
      "execution_count": 23,
      "outputs": [
        {
          "output_type": "stream",
          "name": "stdout",
          "text": [
            "94/94 - 0s - 2ms/step - accuracy: 0.6457 - loss: 2.0287\n",
            "Test accuracy: 0.6457\n"
          ]
        }
      ]
    },
    {
      "cell_type": "markdown",
      "source": [
        "# Task 6: Save and Load the Model"
      ],
      "metadata": {
        "id": "-2XStnZ3ZXGm"
      }
    },
    {
      "cell_type": "markdown",
      "source": [
        "**Model Saving and Loading**\n",
        "\n",
        "• Save the trained model to an .h5 file using model.save().\n",
        "\n",
        "• Load the saved model and re-evaluate its performance on the test set."
      ],
      "metadata": {
        "id": "29qfTFkrQZ6z"
      }
    },
    {
      "cell_type": "code",
      "source": [
        "from google.colab import drive\n",
        "drive.mount('/content/drive')\n",
        "\n",
        "# Save to Google Drive\n",
        "model.save('/content/drive/My Drive/SilashChaudhary.h5')\n"
      ],
      "metadata": {
        "colab": {
          "base_uri": "https://localhost:8080/"
        },
        "id": "eWU5HaY8Z9Xi",
        "outputId": "80788a24-0d28-4d63-863b-7b2f9a09d58d"
      },
      "execution_count": 24,
      "outputs": [
        {
          "output_type": "stream",
          "name": "stderr",
          "text": [
            "WARNING:absl:You are saving your model as an HDF5 file via `model.save()` or `keras.saving.save_model(model)`. This file format is considered legacy. We recommend using instead the native Keras format, e.g. `model.save('my_model.keras')` or `keras.saving.save_model(model, 'my_model.keras')`. \n"
          ]
        },
        {
          "output_type": "stream",
          "name": "stdout",
          "text": [
            "Drive already mounted at /content/drive; to attempt to forcibly remount, call drive.mount(\"/content/drive\", force_remount=True).\n"
          ]
        }
      ]
    },
    {
      "cell_type": "code",
      "source": [
        "loaded_model = tf.keras.models.load_model('/content/drive/My Drive/SilashChaudhary.h5')\n",
        "print(\"Model loaded from Google Drive successfully!\")"
      ],
      "metadata": {
        "colab": {
          "base_uri": "https://localhost:8080/"
        },
        "id": "DDpvVdtkakdN",
        "outputId": "64a6b19f-64b9-4f1e-dd5c-fffc22285f10"
      },
      "execution_count": 25,
      "outputs": [
        {
          "output_type": "stream",
          "name": "stderr",
          "text": [
            "WARNING:absl:Compiled the loaded model, but the compiled metrics have yet to be built. `model.compile_metrics` will be empty until you train or evaluate the model.\n"
          ]
        },
        {
          "output_type": "stream",
          "name": "stdout",
          "text": [
            "Model loaded from Google Drive successfully!\n"
          ]
        }
      ]
    },
    {
      "cell_type": "code",
      "source": [
        "test_loss, test_acc = loaded_model.evaluate(X_test, y_test, batch_size=128)\n",
        "\n",
        "print(f\"Test Accuracy: {test_acc:.4f}\")\n",
        "print(f\"Test Loss: {test_loss:.4f}\")\n"
      ],
      "metadata": {
        "colab": {
          "base_uri": "https://localhost:8080/"
        },
        "id": "phkZdBgNbr9T",
        "outputId": "e8b7b5bf-e1d3-4d92-db84-2ee0d2587027"
      },
      "execution_count": 26,
      "outputs": [
        {
          "output_type": "stream",
          "name": "stdout",
          "text": [
            "\u001b[1m24/24\u001b[0m \u001b[32m━━━━━━━━━━━━━━━━━━━━\u001b[0m\u001b[37m\u001b[0m \u001b[1m0s\u001b[0m 4ms/step - accuracy: 0.8055 - loss: 0.9118\n",
            "Test Accuracy: 0.6457\n",
            "Test Loss: 2.0287\n"
          ]
        }
      ]
    },
    {
      "cell_type": "markdown",
      "source": [
        "# Task 7: Predictions"
      ],
      "metadata": {
        "id": "S39c4Z10Q2nG"
      }
    },
    {
      "cell_type": "markdown",
      "source": [
        "**Making Predictions**\n",
        "\n",
        "• Use model.predict() to make predictions on test images.\n",
        "\n",
        "• Convert the model’s predicted probabilities to digit labels using np.argmax()."
      ],
      "metadata": {
        "id": "B8MY-B_FQ9Zl"
      }
    },
    {
      "cell_type": "code",
      "source": [
        "predictions = loaded_model.predict(X_test)  # Make predictions on test data\n",
        "predicted_labels = np.argmax(predictions, axis=1)  # Convert probabilities to class labels\n",
        "\n",
        "# Print first 5 predictions\n",
        "print(\"First 5 Predicted Labels:\", predicted_labels[:5])\n",
        "print(\"First 5 True Labels:\", y_test[:5])\n"
      ],
      "metadata": {
        "colab": {
          "base_uri": "https://localhost:8080/"
        },
        "id": "Ha8ljyK-cJw9",
        "outputId": "1706c105-56c9-444f-c890-f869867194d8"
      },
      "execution_count": 27,
      "outputs": [
        {
          "output_type": "stream",
          "name": "stdout",
          "text": [
            "\u001b[1m94/94\u001b[0m \u001b[32m━━━━━━━━━━━━━━━━━━━━\u001b[0m\u001b[37m\u001b[0m \u001b[1m0s\u001b[0m 3ms/step\n",
            "First 5 Predicted Labels: [7 7 0 0 0]\n",
            "First 5 True Labels: [[1. 0. 0. 0. 0. 0. 0. 0. 0. 0.]\n",
            " [1. 0. 0. 0. 0. 0. 0. 0. 0. 0.]\n",
            " [1. 0. 0. 0. 0. 0. 0. 0. 0. 0.]\n",
            " [1. 0. 0. 0. 0. 0. 0. 0. 0. 0.]\n",
            " [1. 0. 0. 0. 0. 0. 0. 0. 0. 0.]]\n"
          ]
        }
      ]
    },
    {
      "cell_type": "markdown",
      "source": [
        "**Expected Deliverables**\n",
        "\n",
        "• Code Implementation: Complete code for building, training, evaluating, saving, and loading\n",
        "the model.\n",
        "\n",
        "• Visualization: Graphs showing the training and validation loss and accuracy.\n",
        "\n",
        "• Test Accuracy: Display the final test accuracy.\n",
        "\n",
        "• Saved Model: Submit the saved .h5 model file."
      ],
      "metadata": {
        "id": "1Ki4uwmLRVUa"
      }
    },
    {
      "cell_type": "code",
      "source": [
        "import matplotlib.pyplot as plt\n",
        "\n",
        "# Assuming 'history' is the object returned by model.fit()\n",
        "# Extracting training and validation loss\n",
        "train_loss = history.history['loss']\n",
        "val_loss = history.history['val_loss']\n",
        "\n",
        "# Extracting training and validation accuracy (if metrics were specified)\n",
        "train_acc = history.history['accuracy']\n",
        "val_acc = history.history['val_accuracy']\n",
        "\n",
        "# Plotting training and validation loss\n",
        "plt.figure(figsize=(16, 8))\n",
        "\n",
        "plt.subplot(1, 2, 1)\n",
        "plt.plot(range(1, len(train_loss) + 1), train_loss, label='Training Loss', color='blue')\n",
        "plt.plot(range(1, len(val_loss) + 1), val_loss, label='Validation Loss', color='orange')\n",
        "plt.xlabel('Epochs')\n",
        "plt.xlabel('If validation loss increases while training loss decreases, the model is overfitting')\n",
        "plt.ylabel('Loss')\n",
        "plt.title('Training and Validation Loss')\n",
        "plt.legend()\n",
        "\n",
        "# Plotting training and validation accuracy\n",
        "plt.subplot(1, 2, 2)\n",
        "plt.plot(range(1, len(train_acc) + 1), train_acc, label='Training Accuracy', color='blue')\n",
        "plt.plot(range(1, len(val_acc) + 1), val_acc, label='Validation Accuracy', color='orange')\n",
        "plt.xlabel('Epochs')\n",
        "plt.xlabel('If validation accuracy is much lower than training accuracy, the model is not generalizing well.')\n",
        "plt.ylabel('Accuracy')\n",
        "plt.title('Training and Validation Accuracy')\n",
        "plt.legend()\n",
        "\n",
        "plt.tight_layout()\n",
        "plt.show()\n",
        "\n"
      ],
      "metadata": {
        "colab": {
          "base_uri": "https://localhost:8080/",
          "height": 570
        },
        "id": "OOSbMB2ecRm5",
        "outputId": "b72fc5e4-a639-4b8a-e2c1-b05e35848e95"
      },
      "execution_count": 28,
      "outputs": [
        {
          "output_type": "display_data",
          "data": {
            "text/plain": [
              "<Figure size 1600x800 with 2 Axes>"
            ],
            "image/png": "[encoded data removed]"
          },
          "metadata": {}
        }
      ]
    },
    {
      "cell_type": "markdown",
      "source": [
        "# Display a Few Sample Predictions"
      ],
      "metadata": {
        "id": "-9DBC0crScc0"
      }
    },
    {
      "cell_type": "code",
      "source": [
        "import random\n",
        "\n",
        "# Select random images from test set\n",
        "num_samples = 5\n",
        "random_indices = random.sample(range(len(X_test)), num_samples)\n",
        "\n",
        "plt.figure(figsize=(18, 9))\n",
        "for i, idx in enumerate(random_indices):\n",
        "    plt.subplot(1, num_samples, i+1)\n",
        "    plt.imshow(X_test[idx], cmap=\"gray\")  # Show the test image\n",
        "\n",
        "    plt.title(f\"Pred:{predicted_labels[idx]}\\nTrue: {y_test[idx]}\")\n",
        "    plt.axis('off')\n",
        "\n",
        "plt.show()\n"
      ],
      "metadata": {
        "id": "mlv5e85zfX3i",
        "colab": {
          "base_uri": "https://localhost:8080/",
          "height": 251
        },
        "outputId": "dd3fab39-8223-4e0f-a532-48a7d66953c8"
      },
      "execution_count": 29,
      "outputs": [
        {
          "output_type": "display_data",
          "data": {
            "text/plain": [
              "<Figure size 1800x900 with 5 Axes>"
            ],
            "image/png": "[encoded data removed]"
          },
          "metadata": {}
        }
      ]
    }
  ]
}